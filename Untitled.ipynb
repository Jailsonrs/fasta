{
 "cells": [
  {
   "cell_type": "code",
   "execution_count": null,
   "metadata": {},
   "outputs": [],
   "source": [
    "# -*- coding: UTF-8 -*-\n",
    "# Importar bibliotecas\n",
    "import random \n",
    "import argparse \n",
    "from Bio import SeqIO\n",
    "from Bio.Seq import Seq\n",
    "from Bio.SeqRecord import SeqRecord\n",
    "import os\n",
    "# Código para probabilidades de mutação\n",
    "\n",
    "\n",
    "def gerar_mutacao(base_nitrogenada,prob_mutar,prob_gc):\n",
    "    if random.random() <= prob_mutar:\n",
    "         if random.random() <= prob_gc:\n",
    "            if random.random() <= 0.5:\n",
    "                base_nitrogenada = \"G\"\n",
    "            else:\n",
    "                base_nitrogenada = \"C\"\n",
    "         else:\n",
    "            if random.random()<= 0.5:\n",
    "                base_nitrogenada = \"A\"\n",
    "            else:\n",
    "                base_nitrogenada = \"T\"\n",
    "    else:\n",
    "        base_nitrogenada = base_nitrogenada\n",
    "\n",
    "    return base_nitrogenada\n",
    "\n",
    "\n",
    "def substituicao(seq_dna,prob_mutar,prob_gc):\n",
    "    \n",
    "    lista_final = []\n",
    "\n",
    "    for base_nitrogenada in seq_dna:\n",
    "         resultado = gerar_mutacao(base_nitrogenada,prob_mutar,prob_gc)\n",
    "\n",
    "         lista_final.append(resultado)\n",
    "    \n",
    "    return \"\".join(lista_final)\n",
    "  \n",
    "\n",
    "\n",
    "\n",
    "\n",
    "if  __name__ == \"__main__\":\n",
    "\n",
    "    parser = argparse.ArgumentParser(description = \"Um programa que calcula as probabilidades de mutações\")\n",
    "    parser.add_argument('-F','--fastaFile', dest = \"fasta_file\",required = True, help = \"Digite o nome do arquivo com as sequências em formato fasta\", type = str)\n",
    "    parser.add_argument('-P','--probabilidade', dest = \"prob_mutar\",required = True, help = \"Digite a probabilidade de ocorrência de mutação\", type = float)\n",
    "    parser.add_argument('-G', '--prob', dest = \"prob_gc\", required = True, help = \"Digite a probabilidade de ocorrência de GC\", type = float)\n",
    "    args = parser.parse_args()\n",
    "\n",
    "    prob_mutar = args.prob_mutar\n",
    "    prob_gc = args.prob_gc\n",
    "\n",
    "    "
   ]
  },
  {
   "cell_type": "code",
   "execution_count": null,
   "metadata": {},
   "outputs": [],
   "source": []
  },
  {
   "cell_type": "code",
   "execution_count": null,
   "metadata": {},
   "outputs": [],
   "source": [
    "fasta_sequences = SeqIO.parse(open(input_file),'fasta')"
   ]
  },
  {
   "cell_type": "code",
   "execution_count": null,
   "metadata": {},
   "outputs": [],
   "source": [
    "with open(args.fasta_file, 'rU') as fastahandle, open ('output2.fasta', 'w') as output_handle:\n",
    "      for seq_record in SeqIO.parse(fastahandle, 'fasta'):\n",
    "       print(seq_record.id)\n",
    "       mutatedSequence = substituicao(seq_record.seq,prob_mutar,prob_gc)\n",
    "       myID=seq_record.id + '_mut'\n",
    "       print(myID)\n",
    "       if len(mutatedSequence) == len(seq_record.seq):\n",
    "           seqObj=SeqRecord(\n",
    "                   Seq(mutatedSequence),\n",
    "                   id=myID,\n",
    "                   name=myID,\n",
    "                   description='mutated sequence based on: '+myID\n",
    "                   )\n",
    "           SeqIO.write(seqObj,output_handle, 'fasta')\n",
    "       else:\n",
    "           print(\"Não está correto, o comprimento da sequencia original nao é o mesmoda sequencia mutada\")"
   ]
  }
 ],
 "metadata": {
  "kernelspec": {
   "display_name": "Python 3",
   "language": "python",
   "name": "python3"
  },
  "language_info": {
   "codemirror_mode": {
    "name": "ipython",
    "version": 3
   },
   "file_extension": ".py",
   "mimetype": "text/x-python",
   "name": "python",
   "nbconvert_exporter": "python",
   "pygments_lexer": "ipython3",
   "version": "3.8.5"
  }
 },
 "nbformat": 4,
 "nbformat_minor": 4
}
